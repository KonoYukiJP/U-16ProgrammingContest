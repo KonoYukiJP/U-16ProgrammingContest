{
  "nbformat": 4,
  "nbformat_minor": 0,
  "metadata": {
    "colab": {
      "provenance": [],
      "authorship_tag": "ABX9TyNsu9uvpY1bAornHDqNMTsy",
      "include_colab_link": true
    },
    "kernelspec": {
      "name": "python3",
      "display_name": "Python 3"
    },
    "language_info": {
      "name": "python"
    }
  },
  "cells": [
    {
      "cell_type": "markdown",
      "metadata": {
        "id": "view-in-github",
        "colab_type": "text"
      },
      "source": [
        "<a href=\"https://colab.research.google.com/github/konoyuki2/Graduation_Research/blob/main/%E9%AB%98%E5%8F%B0%E5%B0%8F%E5%AD%A6%E6%A0%A1.ipynb\" target=\"_parent\"><img src=\"https://colab.research.google.com/assets/colab-badge.svg\" alt=\"Open In Colab\"/></a>"
      ]
    },
    {
      "cell_type": "markdown",
      "source": [
        "**ここを最初に一回実行**"
      ],
      "metadata": {
        "id": "SxIjTFg7crlx"
      }
    },
    {
      "cell_type": "code",
      "execution_count": null,
      "metadata": {
        "id": "pZIdI_HsSevw"
      },
      "outputs": [],
      "source": [
        "!pip install japanize-matplotlib --quiet\n",
        "import gdown\n",
        "gdown.download('https://drive.google.com/u/1/uc?id=17AgH_aeH8k3DU0-m0ZmZ-_bwPwEkfPGw', 'CHaser.py', quiet = True)\n",
        "import CHaser\n",
        "gdown.download('https://drive.google.com/u/1/uc?id=1sgC59_DMTyM8q37KrrF1ZZZo-fT-biAL', '2017final.map', quiet = True)\n",
        "gdown.download('https://drive.google.com/u/1/uc?id=1Vwrwy6qzJclFHe9ooVDjAXCeWFSfU-rz', '2017firstRound.map', quiet = True)\n",
        "gdown.download('https://drive.google.com/u/1/uc?id=1zawHeUSVgPHtMh8I4f6JK2TBNP8Gn_Vf', '2017quarterFinal.map', quiet = True)\n",
        "gdown.download('https://drive.google.com/u/1/uc?id=19P5MepXq6REp0mCIKJo0Cr_GbZB_tNrD', '2017secondRound.map', quiet = True)\n",
        "gdown.download('https://drive.google.com/u/1/uc?id=1pnUa9TEkWmN7xGFVT1GzjLyyWHPzXl8b', '2017semiFinal.map', quiet = True)\n",
        "gdown.download('https://drive.google.com/u/1/uc?id=1U7_0rClzLD9I5UY6jSqtfA_k_awHv97B', '2017vsBot3.map', quiet = True)\n",
        "print('完了')"
      ]
    },
    {
      "cell_type": "markdown",
      "source": [
        "**ここから下は毎回実行**"
      ],
      "metadata": {
        "id": "YQ_p6DtBa7fB"
      }
    },
    {
      "cell_type": "markdown",
      "source": [
        "対戦するマップを表示しよう。"
      ],
      "metadata": {
        "id": "cKmaqjt5yCQj"
      }
    },
    {
      "cell_type": "code",
      "source": [
        "client = CHaser.Client(language = 'Takadai')"
      ],
      "metadata": {
        "id": "To80oMjftHwg"
      },
      "execution_count": null,
      "outputs": []
    },
    {
      "cell_type": "markdown",
      "source": [
        "コードを書いてみよう\n",
        "\n",
        "·コード\n",
        "\n",
        "右に歩く: **`client.walk_right()`**\n",
        "\n",
        "左に歩く: **`client.walk_left()`**\n",
        "\n",
        "上に歩く: **`client.walk_up()`**       \n",
        "\n",
        "下に歩く: **`client.walk_down()`**\n",
        "\n",
        "右にブロックを置く: **`client.put_right()`**\n",
        "\n",
        "左にブロックを置く: **`client.put_left()`**\n",
        "\n",
        "上にブロックを置く: **`client.put_up()`**\n",
        "\n",
        "下にブロックを置く: **`client.put_down()`**"
      ],
      "metadata": {
        "id": "5AHOANREvCb1"
      }
    },
    {
      "cell_type": "code",
      "source": [
        "while client.isWorking:\n",
        "    value = client.get_ready()\n",
        "\n",
        "    #ここの下にコードを書く。"
      ],
      "metadata": {
        "id": "pSX1nghoTgc8"
      },
      "execution_count": null,
      "outputs": []
    }
  ]
}