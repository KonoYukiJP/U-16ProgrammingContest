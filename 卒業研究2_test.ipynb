{
  "nbformat": 4,
  "nbformat_minor": 0,
  "metadata": {
    "colab": {
      "provenance": [],
      "authorship_tag": "ABX9TyMOUslt30c/hEc2S9BrTKFZ",
      "include_colab_link": true
    },
    "kernelspec": {
      "name": "python3",
      "display_name": "Python 3"
    },
    "language_info": {
      "name": "python"
    }
  },
  "cells": [
    {
      "cell_type": "markdown",
      "metadata": {
        "id": "view-in-github",
        "colab_type": "text"
      },
      "source": [
        "<a href=\"https://colab.research.google.com/github/konoyuki2/Graduation_Research/blob/main/%E5%8D%92%E6%A5%AD%E7%A0%94%E7%A9%B62_test.ipynb\" target=\"_parent\"><img src=\"https://colab.research.google.com/assets/colab-badge.svg\" alt=\"Open In Colab\"/></a>"
      ]
    },
    {
      "cell_type": "code",
      "source": [
        "!pip install japanize-matplotlib"
      ],
      "metadata": {
        "colab": {
          "base_uri": "https://localhost:8080/"
        },
        "id": "HCO08PA2OLhW",
        "outputId": "5716458f-6513-43fc-c755-7236798e71db"
      },
      "execution_count": 20,
      "outputs": [
        {
          "output_type": "stream",
          "name": "stdout",
          "text": [
            "Requirement already satisfied: japanize-matplotlib in /usr/local/lib/python3.10/dist-packages (1.1.3)\n",
            "Requirement already satisfied: matplotlib in /usr/local/lib/python3.10/dist-packages (from japanize-matplotlib) (3.7.1)\n",
            "Requirement already satisfied: contourpy>=1.0.1 in /usr/local/lib/python3.10/dist-packages (from matplotlib->japanize-matplotlib) (1.1.0)\n",
            "Requirement already satisfied: cycler>=0.10 in /usr/local/lib/python3.10/dist-packages (from matplotlib->japanize-matplotlib) (0.11.0)\n",
            "Requirement already satisfied: fonttools>=4.22.0 in /usr/local/lib/python3.10/dist-packages (from matplotlib->japanize-matplotlib) (4.40.0)\n",
            "Requirement already satisfied: kiwisolver>=1.0.1 in /usr/local/lib/python3.10/dist-packages (from matplotlib->japanize-matplotlib) (1.4.4)\n",
            "Requirement already satisfied: numpy>=1.20 in /usr/local/lib/python3.10/dist-packages (from matplotlib->japanize-matplotlib) (1.22.4)\n",
            "Requirement already satisfied: packaging>=20.0 in /usr/local/lib/python3.10/dist-packages (from matplotlib->japanize-matplotlib) (23.1)\n",
            "Requirement already satisfied: pillow>=6.2.0 in /usr/local/lib/python3.10/dist-packages (from matplotlib->japanize-matplotlib) (8.4.0)\n",
            "Requirement already satisfied: pyparsing>=2.3.1 in /usr/local/lib/python3.10/dist-packages (from matplotlib->japanize-matplotlib) (3.1.0)\n",
            "Requirement already satisfied: python-dateutil>=2.7 in /usr/local/lib/python3.10/dist-packages (from matplotlib->japanize-matplotlib) (2.8.2)\n",
            "Requirement already satisfied: six>=1.5 in /usr/local/lib/python3.10/dist-packages (from python-dateutil>=2.7->matplotlib->japanize-matplotlib) (1.16.0)\n"
          ]
        }
      ]
    },
    {
      "cell_type": "code",
      "source": [
        "import gdown\n",
        "gdown.download('https://drive.google.com/u/1/uc?id=17AgH_aeH8k3DU0-m0ZmZ-_bwPwEkfPGw', 'System.py', quiet=False)\n",
        "import System"
      ],
      "metadata": {
        "id": "QcBFp8dT4iCT",
        "colab": {
          "base_uri": "https://localhost:8080/"
        },
        "outputId": "39352281-5260-49de-c38b-c8accb7373d0"
      },
      "execution_count": 26,
      "outputs": [
        {
          "output_type": "stream",
          "name": "stderr",
          "text": [
            "Downloading...\n",
            "From: https://drive.google.com/u/1/uc?id=17AgH_aeH8k3DU0-m0ZmZ-_bwPwEkfPGw\n",
            "To: /content/drive/MyDrive/Colab Notebooks/System.py\n",
            "100%|██████████| 19.1k/19.1k [00:00<00:00, 35.8MB/s]\n"
          ]
        }
      ]
    },
    {
      "cell_type": "code",
      "source": [
        "\n",
        "#2017final.map\n",
        "#2017firstRound.map\n",
        "#2017quarterFinal.map\n",
        "#2017secondRound.map\n",
        "#2017semiFinal.map\n",
        "#2017vsBot3.map\n",
        "client = Client()\n",
        "\n",
        "def get_ready():\n",
        "    return client.get_ready()\n",
        "\n",
        "def walk_right():\n",
        "    return client.walk_right()\n",
        "def walk_up():\n",
        "    return client.walk_up()\n",
        "def walk_left():\n",
        "    return client.walk_left()\n",
        "def walk_down():\n",
        "    return client.walk_down()\n",
        "\n",
        "def look_right():\n",
        "    return client.look_right()\n",
        "def look_up():\n",
        "    return client.look_up()\n",
        "def look_left():\n",
        "    return client.look_left()\n",
        "def look_down():\n",
        "    return client.look_down()\n",
        "\n",
        "def search_right():\n",
        "    return client.search_right()\n",
        "def search_up():\n",
        "    return client.search_up()\n",
        "def search_left():\n",
        "    return client.search_left()\n",
        "def search_down():\n",
        "    return client.search_down()\n",
        "\n",
        "def put_right():\n",
        "    return client.put_right()\n",
        "def put_up():\n",
        "    return client.put_up()\n",
        "def put_left():\n",
        "    return client.put_left()\n",
        "def put_down():\n",
        "    return client.put_down()"
      ],
      "metadata": {
        "id": "A2WgROWnvYtr",
        "colab": {
          "base_uri": "https://localhost:8080/",
          "height": 232
        },
        "outputId": "2210d34a-f3f9-4774-8bec-2ab55e3f064d"
      },
      "execution_count": 28,
      "outputs": [
        {
          "output_type": "error",
          "ename": "NameError",
          "evalue": "ignored",
          "traceback": [
            "\u001b[0;31m---------------------------------------------------------------------------\u001b[0m",
            "\u001b[0;31mNameError\u001b[0m                                 Traceback (most recent call last)",
            "\u001b[0;32m<ipython-input-28-c4bd6f76dc51>\u001b[0m in \u001b[0;36m<cell line: 7>\u001b[0;34m()\u001b[0m\n\u001b[1;32m      5\u001b[0m \u001b[0;31m#2017semiFinal.map\u001b[0m\u001b[0;34m\u001b[0m\u001b[0;34m\u001b[0m\u001b[0m\n\u001b[1;32m      6\u001b[0m \u001b[0;31m#2017vsBot3.map\u001b[0m\u001b[0;34m\u001b[0m\u001b[0;34m\u001b[0m\u001b[0m\n\u001b[0;32m----> 7\u001b[0;31m \u001b[0mclient\u001b[0m \u001b[0;34m=\u001b[0m \u001b[0mClient\u001b[0m\u001b[0;34m(\u001b[0m\u001b[0;34m)\u001b[0m\u001b[0;34m\u001b[0m\u001b[0;34m\u001b[0m\u001b[0m\n\u001b[0m\u001b[1;32m      8\u001b[0m \u001b[0;34m\u001b[0m\u001b[0m\n\u001b[1;32m      9\u001b[0m \u001b[0;32mdef\u001b[0m \u001b[0mget_ready\u001b[0m\u001b[0;34m(\u001b[0m\u001b[0;34m)\u001b[0m\u001b[0;34m:\u001b[0m\u001b[0;34m\u001b[0m\u001b[0;34m\u001b[0m\u001b[0m\n",
            "\u001b[0;31mNameError\u001b[0m: name 'Client' is not defined"
          ]
        }
      ]
    },
    {
      "cell_type": "code",
      "source": [
        "flag = 0\n",
        "flag2 = 0\n",
        "\n",
        "while client.isWorking:\n",
        "    value = get_ready()\n",
        "\n",
        "    if flag == 0 and value[2] != 2:\n",
        "        walk_up()\n",
        "    elif flag == 1:\n",
        "        look_right()\n",
        "    elif flag == 2:\n",
        "        look_down()\n",
        "    elif flag == 3:\n",
        "        look_left()\n",
        "    elif flag == 4:\n",
        "        look_up()\n",
        "    elif flag == 5:\n",
        "        search_right()\n",
        "    elif flag == 6:\n",
        "        search_down()\n",
        "    elif flag == 7:\n",
        "        search_left()\n",
        "    elif flag == 8:\n",
        "        search_up()\n",
        "    elif flag == 9:\n",
        "        put_down()\n",
        "    elif flag == 10:\n",
        "        put_left()\n",
        "    elif flag == 11:\n",
        "        put_up()\n",
        "    elif flag == 13:\n",
        "        put_right()\n",
        "    elif value[2] == 1:\n",
        "        put_up()\n",
        "    elif value[4] == 1:\n",
        "        put_left()\n",
        "    elif value[6] == 1:\n",
        "        put_right()\n",
        "    elif value[8] == 1:\n",
        "        put_down()\n",
        "    elif value[6] == 3:\n",
        "        walk_right()\n",
        "    elif value[8] == 3:\n",
        "        walk_down()\n",
        "    elif value[4] == 3:\n",
        "        walk_left()\n",
        "    elif value[2] == 3:\n",
        "        walk_up()\n",
        "    elif value[6] != 2:\n",
        "        flag2 = 0\n",
        "        walk_right()\n",
        "    elif value[8] != 2:\n",
        "        walk_down()\n",
        "    elif value[8] == 2 and flag2 == 0:\n",
        "        look_down()\n",
        "        flag2 += 1\n",
        "    else:\n",
        "        walk_up()\n",
        "\n",
        "    flag += 1"
      ],
      "metadata": {
        "id": "mqssPNgzXuAm",
        "colab": {
          "base_uri": "https://localhost:8080/",
          "height": 232
        },
        "outputId": "e7416028-5d50-46cc-eccd-5de1066fe4c7"
      },
      "execution_count": 24,
      "outputs": [
        {
          "output_type": "error",
          "ename": "NameError",
          "evalue": "ignored",
          "traceback": [
            "\u001b[0;31m---------------------------------------------------------------------------\u001b[0m",
            "\u001b[0;31mNameError\u001b[0m                                 Traceback (most recent call last)",
            "\u001b[0;32m<ipython-input-24-711af5f7548c>\u001b[0m in \u001b[0;36m<cell line: 4>\u001b[0;34m()\u001b[0m\n\u001b[1;32m      2\u001b[0m \u001b[0mflag2\u001b[0m \u001b[0;34m=\u001b[0m \u001b[0;36m0\u001b[0m\u001b[0;34m\u001b[0m\u001b[0;34m\u001b[0m\u001b[0m\n\u001b[1;32m      3\u001b[0m \u001b[0;34m\u001b[0m\u001b[0m\n\u001b[0;32m----> 4\u001b[0;31m \u001b[0;32mwhile\u001b[0m \u001b[0mclient\u001b[0m\u001b[0;34m.\u001b[0m\u001b[0misWorking\u001b[0m\u001b[0;34m:\u001b[0m\u001b[0;34m\u001b[0m\u001b[0;34m\u001b[0m\u001b[0m\n\u001b[0m\u001b[1;32m      5\u001b[0m     \u001b[0mvalue\u001b[0m \u001b[0;34m=\u001b[0m \u001b[0mget_ready\u001b[0m\u001b[0;34m(\u001b[0m\u001b[0;34m)\u001b[0m\u001b[0;34m\u001b[0m\u001b[0;34m\u001b[0m\u001b[0m\n\u001b[1;32m      6\u001b[0m \u001b[0;34m\u001b[0m\u001b[0m\n",
            "\u001b[0;31mNameError\u001b[0m: name 'client' is not defined"
          ]
        }
      ]
    }
  ]
}