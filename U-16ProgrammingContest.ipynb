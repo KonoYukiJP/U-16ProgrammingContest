{
  "cells": [
    {
      "cell_type": "markdown",
      "metadata": {
        "id": "view-in-github",
        "colab_type": "text"
      },
      "source": [
        "<a href=\"https://colab.research.google.com/github/KonoYukiJP/U-16ProgrammingContest/blob/main/U-16ProgrammingContest.ipynb\" target=\"_parent\"><img src=\"https://colab.research.google.com/assets/colab-badge.svg\" alt=\"Open In Colab\"/></a>"
      ]
    },
    {
      "cell_type": "markdown",
      "metadata": {
        "id": "NUpukap5dIzm"
      },
      "source": [
        "#####データをダウンロードする - Download data"
      ]
    },
    {
      "cell_type": "code",
      "execution_count": null,
      "metadata": {
        "id": "t3qQSvjZdDux",
        "collapsed": true
      },
      "outputs": [],
      "source": [
        "!pip install japanize-matplotlib --quiet\n",
        "import gdown\n",
        "gdown.download('https://drive.google.com/u/1/uc?id=1vIy6COz5vlEo6Fmb2s2jxNqjXOFoEVy7', 'CHaser.py', quiet = True)"
      ]
    },
    {
      "cell_type": "markdown",
      "metadata": {
        "id": "-y8QX5YPbThg"
      },
      "source": [
        "#####マップをダウンロードする - Download maps"
      ]
    },
    {
      "cell_type": "code",
      "execution_count": null,
      "metadata": {
        "id": "07IZLDgYa-ud"
      },
      "outputs": [],
      "source": [
        "import gdown\n",
        "gdown.download('https://drive.google.com/uc?id=1ZS4zZhPRL3_Bmy8mAA8O-6XMJo_h7zGa', '2017final.map', quiet = True)\n",
        "gdown.download('https://drive.google.com/uc?id=1Kveh9nS0YLvIkGDsbou32uZN-Spw8S4R', '2017firstRound.map', quiet = True)\n",
        "gdown.download('https://drive.google.com/uc?id=1_vZ5ckUYlI3vf3qq7JQ6IZagL-w-Te42', '2017quarterFinal.map', quiet = True)\n",
        "gdown.download('https://drive.google.com/uc?id=1AcMKpxuxQmYitssg4LoB43oPAufn-ygd', '2017secondRound.map', quiet = True)\n",
        "gdown.download('https://drive.google.com/uc?id=1W_hZwaSPSfWYiH4JBzUXaJdxlfhKAxiJ', '2017semiFinal.map', quiet = True)\n",
        "gdown.download('https://drive.google.com/uc?id=1VxupZKbAoO18mvpHN5rT6SbtIzF1-8zD', '2017vsBot3.map', quiet = True)\n",
        "gdown.download('https://drive.google.com/uc?id=1LS1W4cpk0KuDnY0JzVOSjk_tcTtpXu0a', 'サンプルマップ01_Lookの確認.map', quiet = True)\n",
        "gdown.download('https://drive.google.com/uc?id=1l8nw49P_Fh1AFvOigVWS1jmZCj77VCxn', 'サンプルマップ02_Searchの確認.map', quiet = True)\n",
        "gdown.download('https://drive.google.com/uc?id=1Oo36zzxLQPRBB2zk5J_bvjQJ57tDim0e', 'サンプルマップ03_壁の回避の確認.map', quiet = True)\n",
        "gdown.download('https://drive.google.com/uc?id=1Qd2NyGif4vra-plwwco7bvx2aNTAYlH4', 'サンプルマップ04_アイテム取得の確認.map', quiet = True)\n",
        "gdown.download('https://drive.google.com/uc?id=1siLW-GMprxpDoBU_27sMHb0Qhav8x1nq', 'サンプルマップ05_ループ脱出の確認.map', quiet = True)\n",
        "gdown.download('https://drive.google.com/uc?id=1dY8ZPnMVqPb39P0akWnobw4XVEbRkAaW', 'サンプルマップ06_索敵の確認.map', quiet = True)\n",
        "gdown.download('https://drive.google.com/uc?id=1M5XZPG3LIEWdfMa-yQmQgBjQ0fy1_T_5', 'サンプルマップ07_本番風マップ.map', quiet = True)\n",
        "gdown.download('https://drive.google.com/uc?id=1B4DtLRbgS42c00yqpH5lgOfFXvYQGKDP', '11_basic01.map', quiet = True)\n",
        "gdown.download('https://drive.google.com/uc?id=1DgrUqeZs25TZtsVw4NvSckDf24ze_ENN', 'item_check_map.map', quiet = True)\n",
        "gdown.download('https://drive.google.com/uc?id=1DGfXeN4hu2j67zdz8-cINHATKAv8oCCh', 'item_check_map2.map', quiet = True)\n",
        "gdown.download('https://drive.google.com/uc?id=1f8R_VR334DE4GfCfmZ9MJi7Ptgak3dYj', 'item_check_map3.map', quiet = True)\n",
        "gdown.download('https://drive.google.com/uc?id=1qfV73NgZgzr8KC_zQOeOEs3w4rnjyDvp', 'item_check_map4.map', quiet = True)\n",
        "gdown.download('https://drive.google.com/uc?id=1M8HUl4bcNSXJtML5cfGFXQgFIHEd82UY', 'item_check_map5.map', quiet = True)\n",
        "gdown.download('https://drive.google.com/uc?id=1CJn6gqIevWqKEkbOhrCf8jFjbsvUjnVr', 'LookChap1_kadai1.map', quiet = True)\n",
        "gdown.download('https://drive.google.com/uc?id=1JRiGfHJyyE5OxqmN6kj74--w3kciaFOO', 'LookChap1_kadai2.map', quiet = True)\n",
        "gdown.download('https://drive.google.com/uc?id=1uiLmgHqOXwTeYpa8v5SNIpe9MXCVAzDm', 'LookChap1_kadai3.map', quiet = True)\n",
        "gdown.download('https://drive.google.com/uc?id=15CiUxn2-2GKELhw6woMO0jWOb9MuWB10', 'LookSearchChap1_kadai3.map', quiet = True)\n",
        "gdown.download('https://drive.google.com/uc?id=1Xx_NnvkWGvfflfe58qhSwra6tAPGMtx1', 'LookSearchChap2_1.map', quiet = True)\n",
        "gdown.download('https://drive.google.com/uc?id=1xU3RBnxVFIhzck-Bomt5v_JK_ad17g1x', 'map_U16Asahikawa2021_1st.map', quiet = True)\n",
        "gdown.download('https://drive.google.com/uc?id=1fiR2QDgZpeMZ6jk7-9w_AsIkflyX-bPG', 'map_U16Asahikawa2021_2nd.map', quiet = True)\n",
        "gdown.download('https://drive.google.com/uc?id=1UfM3ha5Eekc1P13OkyZBGm1l-kq_oSQk', 'map_U16Asahikawa2021_3rd_place_match.map', quiet = True)\n",
        "gdown.download('https://drive.google.com/uc?id=1p9EIAAR6mWGzr6itGl11hxsAqTAPVFEx', 'map_U16Asahikawa2021_3rd.map', quiet = True)\n",
        "gdown.download('https://drive.google.com/uc?id=1EXnQ33gkxDeCd5kmiVd-xW4zzpnxpL-m', 'map_U16Asahikawa2021_Final.map', quiet = True)\n",
        "gdown.download('https://drive.google.com/uc?id=1EphlHgNV0jQYxVNI9XXxG3jJg4A7H-yS', 'map_U16Asahikawa2021_SemiFinal.map', quiet = True)\n",
        "gdown.download('https://drive.google.com/uc?id=18w_5fPTFntCO9kvU8CzCKJTphROIJHXu', 'map_U16Asahikawa2021_yosen.map', quiet = True)\n",
        "gdown.download('https://drive.google.com/uc?id=1ug0spVnjPohJejrOA5klKSP83He1wVPt', 'PutChap1_2.map', quiet = True)\n",
        "gdown.download('https://drive.google.com/uc?id=1ZHbsuoQpyXQlHXSPoxjhD6gfQq4FE7Sg', 'PutChap1.map', quiet = True)\n",
        "gdown.download('https://drive.google.com/uc?id=19-jD8DdOqJxV999_-XO66KxMr2lSzsxJ', 'search_test.map', quiet = True)\n",
        "gdown.download('https://drive.google.com/uc?id=1OXSPqpssBkyUo9BihFSfXfM_c9aqgelJ', 'U16Asahikawa2021Kesshou.map', quiet = True)\n",
        "gdown.download('https://drive.google.com/uc?id=1kA_pl0YYBDiJ5yFenoyGe4oOC27PCSgX', 'WalkChap1_1.map', quiet = True)\n",
        "gdown.download('https://drive.google.com/uc?id=1Bk_XBv_PBvW66lCz279EGnM7r4J11t_D', 'WalkChap2_1.map', quiet = True)\n",
        "gdown.download('https://drive.google.com/uc?id=1HXYwoLT4pdJ29FcYEp2CxQ-nH4vw8FX3', 'WalkChap2_2.map', quiet = True)\n",
        "gdown.download('https://drive.google.com/uc?id=1UnYDpSpUNeZxk8ixIeYgKH_Rfb2waW9Y', 'WalkChap2_3.map', quiet = True)\n",
        "gdown.download('https://drive.google.com/uc?id=1VcKNFv3prWMGdOlzDxTpT5ZJ6SkQ9jHI', 'WalkChap3_1_kadai1.map', quiet = True)\n",
        "gdown.download('https://drive.google.com/uc?id=1my-L6UvwxmMz2FrfX4xkzQeGr3_x1d05', 'WalkChap3_1_kadai2.map', quiet = True)\n",
        "gdown.download('https://drive.google.com/uc?id=1kTDwzFVj7H4ByhQ63h9O30_pVVbn6sMX', 'WalkChap3_1_kadai3.map', quiet = True)\n",
        "gdown.download('https://drive.google.com/uc?id=1__ok6zoGKmKi0OgaBKBn2wPoCceF7EGC', 'WalkChap3_1_kadai4.map', quiet = True)\n",
        "gdown.download('https://drive.google.com/uc?id=1g5DstGOtkGXBvG5_2cGV_X318lw_bXqg', 'WalkChap3_1.map', quiet = True)\n",
        "gdown.download('https://drive.google.com/uc?id=1xpbgVhNiQXxkVXuaX_RdLL3bQTJGsPr9', 'WalkChap4_1.map', quiet = True)\n",
        "gdown.download('https://drive.google.com/uc?id=1X3zMgXAgwcLVfl3_cEodYUBzvsDacwHi', 'WalkChap4_2.map', quiet = True)\n",
        "gdown.download('https://drive.google.com/uc?id=1QtfTkd6BQHhOmICCD9Zsd9g4For0cTXR', 'WalkChap4_3.map', quiet = True)\n",
        "gdown.download('https://drive.google.com/uc?id=1zeJ1CcsRKAQtSKAW6cAF1d_HQIDJV02z', 'WalkChap4_kadai1.map', quiet = True)\n",
        "gdown.download('https://drive.google.com/uc?id=13tdE9mH0p386w0Th68MekS0nGmBnpva1', 'WalkChap4_kadai2.map', quiet = True)\n",
        "gdown.download('https://drive.google.com/uc?id=1hocvION0QjjBGXd_t5brP8oRPNLBFX4Y', 'WalkChap5_kadai_omake1.map', quiet = True)\n",
        "gdown.download('https://drive.google.com/uc?id=1l9EanPzTSsZVNauG_6J8AfzEXFk5nALc', 'WalkChap5_kadai_omake2.map', quiet = True)\n",
        "gdown.download('https://drive.google.com/uc?id=1C2g_PQeBN9tqpbZ82C5jp2HJHVSXLMCK', 'WalkChap5_kadai.map', quiet = True)\n",
        "gdown.download('https://drive.google.com/uc?id=10QYOBm4_zauzDU8uLG9EkNC4FjXbs_ku', 'WalkChap5_kadai2.map', quiet = True)\n",
        "gdown.download('https://drive.google.com/uc?id=1e0LR2EkviD4iqgTC0IQILh7cKRdk6AVB', 'WalkChap5_kadai3.map', quiet = True)\n",
        "gdown.download('https://drive.google.com/uc?id=1VjIdmmM4zppzr_-uwnEYBrsQRL-flgU0', 'WalkChap5_test.map', quiet = True)\n",
        "gdown.download('https://drive.google.com/uc?id=1MPOsaktbNhfVgzm1-VFokfg5XrBbhTsZ', 'WalkChap5.map', quiet = True)\n",
        "gdown.download('https://drive.google.com/uc?id=1a1JgTnCzBCLXKGf3wbkc5BPayw8egovO', 'white.map', quiet = True)\n",
        "gdown.download('https://drive.google.com/uc?id=1D6B3RTEjdeOJXBGgzf9hAHsMYaALNLIQ', '超超近距離マップ1.map', quiet = True)\n",
        "gdown.download('https://drive.google.com/uc?id=1DFnNdVtWGuW2uQb3_mimmTotBWIbX7Q0', '超超近距離マップ2.map', quiet = True)\n",
        "gdown.download('https://drive.google.com/uc?id=1byFYSQSj-oQxhK_SrekGe_LPF2B-_CCd', '超近距離マップ1.map', quiet = True)\n",
        "gdown.download('https://drive.google.com/uc?id=1WRqj_6w7J7Y0NP7gt71TkNIjgPobUDpO', '超近距離マップ2.map', quiet = True)\n",
        "gdown.download('https://drive.google.com/uc?id=1DckYgshE4tbVVk5iZZVMSX6YjOvr4OQv', '近距離マップ.map', quiet = True)\n",
        "gdown.download('https://drive.google.com/uc?id=1IVLjxickCqgN4QNvHiL4mgKoCogb2I7J', '近距離マップ2.map', quiet = True)"
      ]
    },
    {
      "cell_type": "markdown",
      "source": [
        "##### 設定 - Settings"
      ],
      "metadata": {
        "id": "6eUWK2owXXop"
      }
    },
    {
      "cell_type": "code",
      "execution_count": null,
      "metadata": {
        "id": "yBYHge1Rdtay",
        "cellView": "form"
      },
      "outputs": [],
      "source": [
        "import os\n",
        "if os.path.isfile('CHaser.py'):\n",
        "    import CHaser\n",
        "    # @markdown 陣営\n",
        "    camp = \"クール (先攻)\" # @param [\"\\u30AF\\u30FC\\u30EB (\\u5148\\u653B)\", \"\\u30DB\\u30C3\\u30C8 (\\u5F8C\\u653B)\"]\n",
        "    isCool = True if camp == \"クール (先攻)\" else False\n",
        "    # @markdown 名前 (任意)\n",
        "    name = \"\" # @param {type:\"string\"}\n",
        "    # @markdown マップ\n",
        "    map = \"基本\" # @param [\"\\u57FA\\u672C\", \"\\u30EC\\u30FC\\u30EB\", \"\\u30DF\\u30C3\\u30AF\\u30B9\", \"\\u30E9\\u30F3\\u30C0\\u30E0\", \"2017final.map\", \"2017firstRound.map\", \"2017quarterFinal.map\", \"2017secondRound.map\", \"2017semiFinal.map\", \"2017vsBot3.map\", \"\\u30B5\\u30F3\\u30D7\\u30EB\\u30DE\\u30C3\\u30D701_Look\\u306E\\u78BA\\u8A8D.map\", \"\\u30B5\\u30F3\\u30D7\\u30EB\\u30DE\\u30C3\\u30D702_Search\\u306E\\u78BA\\u8A8D.map\", \"\\u30B5\\u30F3\\u30D7\\u30EB\\u30DE\\u30C3\\u30D703_\\u58C1\\u306E\\u56DE\\u907F\\u306E\\u78BA\\u8A8D.map\", \"\\u30B5\\u30F3\\u30D7\\u30EB\\u30DE\\u30C3\\u30D704_\\u30A2\\u30A4\\u30C6\\u30E0\\u53D6\\u5F97\\u306E\\u78BA\\u8A8D.map\", \"\\u30B5\\u30F3\\u30D7\\u30EB\\u30DE\\u30C3\\u30D705_\\u30EB\\u30FC\\u30D7\\u8131\\u51FA\\u306E\\u78BA\\u8A8D.map\", \"\\u30B5\\u30F3\\u30D7\\u30EB\\u30DE\\u30C3\\u30D706_\\u7D22\\u6575\\u306E\\u78BA\\u8A8D.map\", \"\\u30B5\\u30F3\\u30D7\\u30EB\\u30DE\\u30C3\\u30D707_\\u672C\\u756A\\u98A8\\u30DE\\u30C3\\u30D7.map\", \"11_basic01.map\", \"item_check_map.map\", \"item_check_map2.map\", \"item_check_map3.map\", \"item_check_map4.map\", \"item_check_map5.map\", \"LookChap1_kadai1.map\", \"LookChap1_kadai2.map\", \"LookChap1_kadai3.map\", \"LookSearchChap1_kadai3.map\", \"LookSearchChap2_1.map\", \"map_U16Asahikawa2021_1st.map\", \"map_U16Asahikawa2021_2nd.map\", \"map_U16Asahikawa2021_3rd_place_match.map\", \"map_U16Asahikawa2021_3rd.map\", \"map_U16Asahikawa2021_Final.map\", \"map_U16Asahikawa2021_SemiFinal.map\", \"map_U16Asahikawa2021_yosen.map\", \"PutChap1_2.map\", \"PutChap1.map\", \"search_test.map\", \"U16Asahikawa2021Kesshou.map\", \"WalkChap1_1.map\", \"WalkChap2_1.map\", \"WalkChap2_2.map\", \"WalkChap2_3.map\", \"WalkChap3_1_kadai1.map\", \"WalkChap3_1_kadai2.map\", \"WalkChap3_1_kadai3.map\", \"WalkChap3_1_kadai4.map\", \"WalkChap3_1.map\", \"WalkChap4_1.map\", \"WalkChap4_2.map\", \"WalkChap4_3.map\", \"WalkChap4_kadai1.map\", \"WalkChap4_kadai2.map\", \"WalkChap5_kadai_omake1.map\", \"WalkChap5_kadai_omake2.map\", \"WalkChap5_kadai.map\", \"WalkChap5_kadai2.map\", \"WalkChap5_kadai3.map\", \"WalkChap5_test.map\", \"WalkChap5.map\", \"white.map\", \"\\u8D85\\u8D85\\u8FD1\\u8DDD\\u96E2\\u30DE\\u30C3\\u30D71.map\", \"\\u8D85\\u8D85\\u8FD1\\u8DDD\\u96E2\\u30DE\\u30C3\\u30D72.map\", \"\\u8D85\\u8FD1\\u8DDD\\u96E2\\u30DE\\u30C3\\u30D71.map\", \"\\u8D85\\u8FD1\\u8DDD\\u96E2\\u30DE\\u30C3\\u30D72.map\", \"\\u8FD1\\u8DDD\\u96E2\\u30DE\\u30C3\\u30D7.map\", \"\\u8FD1\\u8DDD\\u96E2\\u30DE\\u30C3\\u30D72.map\"]\n",
        "    mapFilePath = None\n",
        "    if map == \"基本\":\n",
        "        mapType = 0\n",
        "    elif map == \"レール\":\n",
        "        mapType = 1\n",
        "    elif map == \"ミックス\":\n",
        "        mapType = 2\n",
        "    else:\n",
        "        mapType = None\n",
        "        if map != \"ランダム\":\n",
        "            mapFilePath = map\n",
        "    # @markdown 敵陣営のボットあり\n",
        "    opponentBot = True # @param {type:\"boolean\"}\n",
        "    client = CHaser.Client(language = \"Japanese\", isCool = isCool, name = name, isAutomatingOpponent = opponentBot, isDisplayingGetReady = False, mapType = mapType, mapFilePath = mapFilePath)\n",
        "    def get_ready():\n",
        "        return client.get_ready()\n",
        "    def walk_up():\n",
        "        return client.walk_up()\n",
        "    def walk_left():\n",
        "        return client.walk_left()\n",
        "    def walk_right():\n",
        "        return client.walk_right()\n",
        "    def walk_down():\n",
        "        return client.walk_down()\n",
        "    def look_up():\n",
        "        return client.look_up()\n",
        "    def look_left():\n",
        "        return client.look_left()\n",
        "    def look_right():\n",
        "        return client.look_right()\n",
        "    def look_down():\n",
        "        return client.look_down()\n",
        "    def search_up():\n",
        "        return client.search_up()\n",
        "    def search_left():\n",
        "        return client.search_left()\n",
        "    def search_right():\n",
        "        return client.search_right()\n",
        "    def search_down():\n",
        "        return client.search_down()\n",
        "    def put_up():\n",
        "        return client.put_up()\n",
        "    def put_left():\n",
        "        return client.put_left()\n",
        "    def put_right():\n",
        "        return client.put_right()\n",
        "    def put_down():\n",
        "        return client.put_down()\n",
        "    blank = \"0\"\n",
        "    enemy = \"1\"\n",
        "    block = \"2\"\n",
        "    item = \"3\"\n",
        "    walk_mode = 0\n",
        "    mode_count = 0\n",
        "    move_mode = 0\n",
        "    move_log = 0\n",
        "    map_info = []\n",
        "    look_info = []\n",
        "    search_info = []\n",
        "    def operate():\n",
        "        value = client.get_ready()\n",
        "        if client.isWorking:\n",
        "            print(\"　移動する　 - 右: walk_right()    左: walk_left()    上: walk_up()    下: walk_up()\\nブロック配置 - 右: put_right()     左: put_left()     上: put_up()     下: put_down()\")\n",
        "            while True:\n",
        "                command = input().lower()\n",
        "                if command == 'walk_right()':\n",
        "                    client.walk_right()\n",
        "                elif command == 'walk_left()':\n",
        "                    client.walk_left()\n",
        "                elif command == 'walk_up()':\n",
        "                    client.walk_up()\n",
        "                elif command == 'walk_down()':\n",
        "                    client.walk_down()\n",
        "                elif command == 'put_right()':\n",
        "                    client.put_right()\n",
        "                elif command == 'put_left()':\n",
        "                    client.put_left()\n",
        "                elif command == 'put_up()':\n",
        "                    client.put_up()\n",
        "                elif command == 'put_down()':\n",
        "                    client.put_down()\n",
        "                if command == 'walk_right()' or command == 'walk_left()' or command == 'walk_up()' or command == 'walk_down()' or command == 'put_right()' or command == 'put_left()' or command == 'put_up()' or command == 'put_down()':\n",
        "                    break\n",
        "                else:\n",
        "                    print('入力した文が間違っています - The sentence you typed is incorrect')\n",
        "else:\n",
        "    print('データがダウンロードされていません - No data has been downloaded')"
      ]
    },
    {
      "cell_type": "markdown",
      "metadata": {
        "id": "Gmk6LdPSAuqf"
      },
      "source": [
        "#####プログラムを書く - Write your program"
      ]
    },
    {
      "cell_type": "code",
      "execution_count": null,
      "metadata": {
        "id": "08_wkds00rNE"
      },
      "outputs": [],
      "source": [
        "while client.isWorking:\n",
        "    operate()"
      ]
    },
    {
      "cell_type": "markdown",
      "source": [
        "#####書き出す - Export"
      ],
      "metadata": {
        "id": "s5rw-uBSBF-s"
      }
    },
    {
      "cell_type": "markdown",
      "source": [
        "######1. プログラムを「%%file program_data」の下に貼り付ける。 - Paste your program below \"%%file program_data\""
      ],
      "metadata": {
        "id": "SHcJHNPI-D3s"
      }
    },
    {
      "cell_type": "code",
      "source": [
        "%%file program_data\n"
      ],
      "metadata": {
        "id": "-a5sImHXBHZa"
      },
      "execution_count": null,
      "outputs": []
    },
    {
      "cell_type": "markdown",
      "source": [
        "######2. 書き出す。"
      ],
      "metadata": {
        "id": "T_kheFyk-PRH"
      }
    },
    {
      "cell_type": "code",
      "source": [
        "program = 'from client.ChaserSimpleClient import ChaserSimpleClient\\nfrom client.ChaserFanc import *\\n\\n# 操作してはいけない変数・配列\\nblank = \"0\"\\nenemy = \"1\"\\nblock = \"2\"\\nitem = \"3\"\\nwalk_mode = 0\\nmode_count = 0\\nmove_mode = 0\\nmove_log = 0\\nmap_info = []\\nlook_info = []\\nsearch_info = []\\n# 操作してはいけない変数・配列\\n\\n'\n",
        "try:\n",
        "    program_data = open(\"program_data\", 'r')\n",
        "    program += program_data.read()\n",
        "    program_data.close()\n",
        "    program += '\\nclient.close()'\n",
        "    program = program.replace('client.isWorking', 'True')\n",
        "    # @markdown ファイル名\n",
        "    fileName = \"\\u30DE\\u30A4\\u30D7\\u30ED\\u30B0\\u30E9\\u30E0\" # @param {type:\"string\"}\n",
        "    if fileName == \"\":\n",
        "        fileName = \"マイプログラム\"\n",
        "    exportedFile = open(fileName + (\".py\" if fileName[-3:] != \".py\" else \"\"), 'w')\n",
        "\n",
        "    exportedFile.write(program)\n",
        "    exportedFile.close()\n",
        "except OSError:\n",
        "    print('書き出すプログラムがありません - No program to export')\n"
      ],
      "metadata": {
        "cellView": "form",
        "id": "RNwUCVH0-BOK"
      },
      "execution_count": null,
      "outputs": []
    }
  ],
  "metadata": {
    "colab": {
      "collapsed_sections": [
        "NUpukap5dIzm",
        "-y8QX5YPbThg",
        "s5rw-uBSBF-s"
      ],
      "provenance": [],
      "authorship_tag": "ABX9TyPSqwISNI3kpYpKVqjlS8n5",
      "include_colab_link": true
    },
    "kernelspec": {
      "display_name": "Python 3",
      "name": "python3"
    },
    "language_info": {
      "name": "python"
    }
  },
  "nbformat": 4,
  "nbformat_minor": 0
}